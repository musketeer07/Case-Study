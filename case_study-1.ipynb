{
 "cells": [
  {
   "cell_type": "code",
   "execution_count": 1,
   "metadata": {},
   "outputs": [],
   "source": [
    "# importing the required libraries\n",
    "\n",
    "import pandas as pd\n",
    "import numpy as np\n",
    "import matplotlib.pyplot as plt"
   ]
  },
  {
   "cell_type": "code",
   "execution_count": 18,
   "metadata": {
    "scrolled": false
   },
   "outputs": [
    {
     "data": {
      "text/html": [
       "<div>\n",
       "<style scoped>\n",
       "    .dataframe tbody tr th:only-of-type {\n",
       "        vertical-align: middle;\n",
       "    }\n",
       "\n",
       "    .dataframe tbody tr th {\n",
       "        vertical-align: top;\n",
       "    }\n",
       "\n",
       "    .dataframe thead th {\n",
       "        text-align: right;\n",
       "    }\n",
       "</style>\n",
       "<table border=\"1\" class=\"dataframe\">\n",
       "  <thead>\n",
       "    <tr style=\"text-align: right;\">\n",
       "      <th></th>\n",
       "      <th>SNo</th>\n",
       "      <th>Date</th>\n",
       "      <th>StartupName</th>\n",
       "      <th>IndustryVertical</th>\n",
       "      <th>SubVertical</th>\n",
       "      <th>CityLocation</th>\n",
       "      <th>InvestorsName</th>\n",
       "      <th>InvestmentType</th>\n",
       "      <th>AmountInUSD</th>\n",
       "      <th>Remarks</th>\n",
       "    </tr>\n",
       "  </thead>\n",
       "  <tbody>\n",
       "    <tr>\n",
       "      <th>0</th>\n",
       "      <td>0</td>\n",
       "      <td>01/08/2017</td>\n",
       "      <td>TouchKin</td>\n",
       "      <td>Technology</td>\n",
       "      <td>Predictive Care Platform</td>\n",
       "      <td>Bangalore</td>\n",
       "      <td>Kae Capital</td>\n",
       "      <td>Private Equity</td>\n",
       "      <td>1,300,000</td>\n",
       "      <td>NaN</td>\n",
       "    </tr>\n",
       "    <tr>\n",
       "      <th>1</th>\n",
       "      <td>1</td>\n",
       "      <td>02/08/2017</td>\n",
       "      <td>Ethinos</td>\n",
       "      <td>Technology</td>\n",
       "      <td>Digital Marketing Agency</td>\n",
       "      <td>Mumbai</td>\n",
       "      <td>Triton Investment Advisors</td>\n",
       "      <td>Private Equity</td>\n",
       "      <td>NaN</td>\n",
       "      <td>NaN</td>\n",
       "    </tr>\n",
       "    <tr>\n",
       "      <th>2</th>\n",
       "      <td>2</td>\n",
       "      <td>02/08/2017</td>\n",
       "      <td>Leverage Edu</td>\n",
       "      <td>Consumer Internet</td>\n",
       "      <td>Online platform for Higher Education Services</td>\n",
       "      <td>New Delhi</td>\n",
       "      <td>Kashyap Deorah, Anand Sankeshwar, Deepak Jain,...</td>\n",
       "      <td>Seed Funding</td>\n",
       "      <td>NaN</td>\n",
       "      <td>NaN</td>\n",
       "    </tr>\n",
       "    <tr>\n",
       "      <th>3</th>\n",
       "      <td>3</td>\n",
       "      <td>02/08/2017</td>\n",
       "      <td>Zepo</td>\n",
       "      <td>Consumer Internet</td>\n",
       "      <td>DIY Ecommerce platform</td>\n",
       "      <td>Mumbai</td>\n",
       "      <td>Kunal Shah, LetsVenture, Anupam Mittal, Hetal ...</td>\n",
       "      <td>Seed Funding</td>\n",
       "      <td>500,000</td>\n",
       "      <td>NaN</td>\n",
       "    </tr>\n",
       "    <tr>\n",
       "      <th>4</th>\n",
       "      <td>4</td>\n",
       "      <td>02/08/2017</td>\n",
       "      <td>Click2Clinic</td>\n",
       "      <td>Consumer Internet</td>\n",
       "      <td>healthcare service aggregator</td>\n",
       "      <td>Hyderabad</td>\n",
       "      <td>Narottam Thudi, Shireesh Palle</td>\n",
       "      <td>Seed Funding</td>\n",
       "      <td>850,000</td>\n",
       "      <td>NaN</td>\n",
       "    </tr>\n",
       "  </tbody>\n",
       "</table>\n",
       "</div>"
      ],
      "text/plain": [
       "   SNo        Date   StartupName   IndustryVertical  \\\n",
       "0    0  01/08/2017      TouchKin         Technology   \n",
       "1    1  02/08/2017       Ethinos         Technology   \n",
       "2    2  02/08/2017  Leverage Edu  Consumer Internet   \n",
       "3    3  02/08/2017          Zepo  Consumer Internet   \n",
       "4    4  02/08/2017  Click2Clinic  Consumer Internet   \n",
       "\n",
       "                                     SubVertical CityLocation  \\\n",
       "0                       Predictive Care Platform    Bangalore   \n",
       "1                       Digital Marketing Agency       Mumbai   \n",
       "2  Online platform for Higher Education Services    New Delhi   \n",
       "3                         DIY Ecommerce platform       Mumbai   \n",
       "4                  healthcare service aggregator    Hyderabad   \n",
       "\n",
       "                                       InvestorsName  InvestmentType  \\\n",
       "0                                        Kae Capital  Private Equity   \n",
       "1                         Triton Investment Advisors  Private Equity   \n",
       "2  Kashyap Deorah, Anand Sankeshwar, Deepak Jain,...    Seed Funding   \n",
       "3  Kunal Shah, LetsVenture, Anupam Mittal, Hetal ...    Seed Funding   \n",
       "4                     Narottam Thudi, Shireesh Palle    Seed Funding   \n",
       "\n",
       "  AmountInUSD Remarks  \n",
       "0   1,300,000     NaN  \n",
       "1         NaN     NaN  \n",
       "2         NaN     NaN  \n",
       "3     500,000     NaN  \n",
       "4     850,000     NaN  "
      ]
     },
     "execution_count": 18,
     "metadata": {},
     "output_type": "execute_result"
    }
   ],
   "source": [
    "df =pd.read_csv('startup_funding.csv')\n",
    "df.head()"
   ]
  },
  {
   "cell_type": "markdown",
   "metadata": {},
   "source": [
    "### Total number of funding in each year and plot a graph between year vs number of fundings "
   ]
  },
  {
   "cell_type": "code",
   "execution_count": 24,
   "metadata": {
    "scrolled": true
   },
   "outputs": [
    {
     "name": "stderr",
     "output_type": "stream",
     "text": [
      "/anaconda3/anaconda3/lib/python3.7/site-packages/ipykernel_launcher.py:1: SettingWithCopyWarning: \n",
      "A value is trying to be set on a copy of a slice from a DataFrame\n",
      "\n",
      "See the caveats in the documentation: http://pandas.pydata.org/pandas-docs/stable/indexing.html#indexing-view-versus-copy\n",
      "  \"\"\"Entry point for launching an IPython kernel.\n",
      "/anaconda3/anaconda3/lib/python3.7/site-packages/ipykernel_launcher.py:2: SettingWithCopyWarning: \n",
      "A value is trying to be set on a copy of a slice from a DataFrame\n",
      "\n",
      "See the caveats in the documentation: http://pandas.pydata.org/pandas-docs/stable/indexing.html#indexing-view-versus-copy\n",
      "  \n",
      "/anaconda3/anaconda3/lib/python3.7/site-packages/ipykernel_launcher.py:3: SettingWithCopyWarning: \n",
      "A value is trying to be set on a copy of a slice from a DataFrame\n",
      "\n",
      "See the caveats in the documentation: http://pandas.pydata.org/pandas-docs/stable/indexing.html#indexing-view-versus-copy\n",
      "  This is separate from the ipykernel package so we can avoid doing imports until\n",
      "/anaconda3/anaconda3/lib/python3.7/site-packages/ipykernel_launcher.py:4: SettingWithCopyWarning: \n",
      "A value is trying to be set on a copy of a slice from a DataFrame\n",
      "\n",
      "See the caveats in the documentation: http://pandas.pydata.org/pandas-docs/stable/indexing.html#indexing-view-versus-copy\n",
      "  after removing the cwd from sys.path.\n"
     ]
    }
   ],
   "source": [
    "df['Date'][df['Date']=='12/05.2015'] = '12/05/2015'\n",
    "df['Date'][df['Date']=='13/04.2015'] = '13/04/2015'\n",
    "df['Date'][df['Date']=='15/01.2015'] = '15/01/2015'\n",
    "df['Date'][df['Date']=='22/01//2015'] = '22/01/2015'"
   ]
  },
  {
   "cell_type": "code",
   "execution_count": 25,
   "metadata": {},
   "outputs": [],
   "source": [
    "year = df['Date'].str.split('/',expand=True)[2]"
   ]
  },
  {
   "cell_type": "code",
   "execution_count": 39,
   "metadata": {},
   "outputs": [],
   "source": [
    "fundings = year.value_counts()"
   ]
  },
  {
   "cell_type": "code",
   "execution_count": 40,
   "metadata": {},
   "outputs": [
    {
     "data": {
      "text/plain": [
       "2016    993\n",
       "2015    936\n",
       "2017    443\n",
       "Name: 2, dtype: int64"
      ]
     },
     "execution_count": 40,
     "metadata": {},
     "output_type": "execute_result"
    }
   ],
   "source": [
    "fundings"
   ]
  },
  {
   "cell_type": "code",
   "execution_count": 26,
   "metadata": {},
   "outputs": [
    {
     "data": {
      "text/plain": [
       "array(['2017', '2016', '2015'], dtype=object)"
      ]
     },
     "execution_count": 26,
     "metadata": {},
     "output_type": "execute_result"
    }
   ],
   "source": [
    "year.unique()"
   ]
  },
  {
   "cell_type": "code",
   "execution_count": 27,
   "metadata": {},
   "outputs": [
    {
     "data": {
      "text/plain": [
       "(2372,)"
      ]
     },
     "execution_count": 27,
     "metadata": {},
     "output_type": "execute_result"
    }
   ],
   "source": [
    "year.shape"
   ]
  },
  {
   "cell_type": "code",
   "execution_count": 32,
   "metadata": {},
   "outputs": [
    {
     "data": {
      "text/plain": [
       "Index(['2015', '2016', '2017'], dtype='object')"
      ]
     },
     "execution_count": 32,
     "metadata": {},
     "output_type": "execute_result"
    }
   ],
   "source": [
    "fundings.sort_index(inplace=True)\n",
    "fundings.index"
   ]
  },
  {
   "cell_type": "code",
   "execution_count": 36,
   "metadata": {},
   "outputs": [
    {
     "data": {
      "image/png": "[encoded data removed]",
      "text/plain": [
       "<Figure size 432x288 with 1 Axes>"
      ]
     },
     "metadata": {
      "needs_background": "light"
     },
     "output_type": "display_data"
    },
    {
     "name": "stdout",
     "output_type": "stream",
     "text": [
      "2015 936\n",
      "2016 993\n",
      "2017 443\n"
     ]
    }
   ],
   "source": [
    "x = fundings.index\n",
    "y = fundings\n",
    "\n",
    "plt.plot(x,y,marker='o')\n",
    "plt.xlabel('Year')\n",
    "plt.ylabel('No. of fundings')\n",
    "plt.title('Year vs No. of fundings')\n",
    "plt.show()\n",
    "\n",
    "for i in range(len(x)):\n",
    "    print(x[i],y[i])"
   ]
  },
  {
   "cell_type": "markdown",
   "metadata": {},
   "source": [
    "### Top 10 Indian cities which have most number of startups and plot them. "
   ]
  },
  {
   "cell_type": "code",
   "execution_count": 88,
   "metadata": {},
   "outputs": [
    {
     "name": "stdout",
     "output_type": "stream",
     "text": [
      "Bangalore 635\n",
      "Mumbai 449\n",
      "New Delhi 389\n",
      "Gurgaon 241\n",
      "Pune 91\n",
      "Noida 79\n",
      "Hyderabad 77\n",
      "Chennai 67\n",
      "Ahmedabad 35\n",
      "Jaipur 25\n"
     ]
    }
   ],
   "source": [
    "import pandas as pd\n",
    "import numpy as np\n",
    "\n",
    "df_start=pd.read_csv('startup_funding.csv',encoding='utf-8')\n",
    "df_start['CityLocation'].dropna(inplace=True)\n",
    "\n",
    "def separateCity(city):\n",
    "    return city.split('/')[0].strip()\n",
    "\n",
    "df_start['CityLocation']=df_start['CityLocation'].apply(separateCity)\n",
    "df_start['CityLocation'].replace(\"Delhi\",\"New Delhi\",inplace=True)\n",
    "df_start['CityLocation'].replace(\"bangalore\",\"Bangalore\",inplace=True)\n",
    "\n",
    "city_number=df_start['CityLocation'].value_counts()[0:10]\n",
    "city=city_number.index\n",
    "numCity=city_number.values\n",
    "for i in range(len(city)):\n",
    "    print(city[i],numCity[i])"
   ]
  },
  {
   "cell_type": "code",
   "execution_count": 105,
   "metadata": {},
   "outputs": [
    {
     "data": {
      "image/png": "[encoded data removed]",
      "text/plain": [
       "<Figure size 432x288 with 1 Axes>"
      ]
     },
     "metadata": {},
     "output_type": "display_data"
    }
   ],
   "source": [
    "x = city_number.index\n",
    "y = city_number\n",
    "plt.pie(y,labels=x,autopct='%.2f%%')\n",
    "plt.show()"
   ]
  },
  {
   "cell_type": "markdown",
   "metadata": {},
   "source": [
    "### Top 10 Indian cities with most amount of fundings received and the percentage of funding each city has got (among top 10 Indian cities only). "
   ]
  },
  {
   "cell_type": "code",
   "execution_count": 114,
   "metadata": {},
   "outputs": [
    {
     "data": {
      "image/png": "[encoded data removed]",
      "text/plain": [
       "<Figure size 1080x720 with 1 Axes>"
      ]
     },
     "metadata": {
      "needs_background": "light"
     },
     "output_type": "display_data"
    },
    {
     "name": "stdout",
     "output_type": "stream",
     "text": [
      "Bangalore 49.71\n",
      "New Delhi 16.63\n",
      "Mumbai 13.90\n",
      "Gurgaon 12.21\n",
      "Chennai 2.43\n",
      "Pune 2.16\n",
      "Hyderabad 1.15\n",
      "Noida 1.01\n",
      "Ahmedabad 0.58\n",
      "Jaipur 0.21\n"
     ]
    }
   ],
   "source": [
    "import pandas as pd\n",
    "\n",
    "data=pd.read_csv('startup_funding.csv')\n",
    "df=data.copy()\n",
    "\n",
    "df.drop(df.index[df.CityLocation.isnull()], inplace=True)\n",
    "df.reset_index(inplace=True, drop=True)\n",
    "\n",
    "df.loc[df['AmountInUSD'].isnull(), 'AmountInUSD']='0'\n",
    "df.loc[df.CityLocation=='bangalore','CityLocation']='Bangalore'\n",
    "df.loc[df.CityLocation=='Delhi', 'CityLocation']='New Delhi'\n",
    "\n",
    "city=[]\n",
    "amount=[]\n",
    "\n",
    "for i in df.CityLocation:\n",
    "    city.append(i)\n",
    "\n",
    "for i in df.AmountInUSD:\n",
    "    amount.append(i)\n",
    "\n",
    "for i in range(len(amount)):\n",
    "    amount[i]=''.join(amount[i].split(','))\n",
    "    city[i]=city[i].split('/')[0].strip()\n",
    "\n",
    "np_amount=np.array(amount, dtype='int64')\n",
    "np_city=np.array(city)\n",
    "\n",
    "\n",
    "\n",
    "dic=dict()\n",
    "for i in range(len(np_city)):\n",
    "    if np_city[i] in dic:\n",
    "        dic[np_city[i]]+=np_amount[i]\n",
    "    else:\n",
    "        dic[np_city[i]]=np_amount[i]\n",
    "\n",
    "xaxis=list(dic.keys())\n",
    "yaxis=list(dic.values())\n",
    "\n",
    "np_xaxis=np.array(xaxis)\n",
    "np_yaxis=np.array(yaxis)\n",
    "\n",
    "np_xaxis=np_xaxis[np.argsort(np_yaxis)]\n",
    "np_yaxis=np.sort(np_yaxis)\n",
    "\n",
    "np_xaxis=np_xaxis[len(np_xaxis)-1:len(np_xaxis)-1-10:-1]\n",
    "np_yaxis=np_yaxis[len(np_yaxis)-1:len(np_yaxis)-1-10:-1]\n",
    "\n",
    "\n",
    "plt.subplots(figsize=(15, 10))\n",
    "plt.bar(np_xaxis, np_yaxis, color='red')\n",
    "plt.xticks(rotation=45, size=16)\n",
    "plt.yticks(size=16)\n",
    "plt.xlabel('City--->', size=16)\n",
    "plt.ylabel('Funding--->', size=16)\n",
    "plt.show()\n",
    "\n",
    "for i in range(len(np_xaxis)):\n",
    "    print(np_xaxis[i], format((np_yaxis[i]*100)/sum(np_yaxis), '.2f'))"
   ]
  },
  {
   "cell_type": "markdown",
   "metadata": {},
   "source": [
    "### Investments type by funding"
   ]
  },
  {
   "cell_type": "code",
   "execution_count": 115,
   "metadata": {},
   "outputs": [],
   "source": [
    "df=pd.read_csv('startup_funding.csv')"
   ]
  },
  {
   "cell_type": "code",
   "execution_count": 116,
   "metadata": {},
   "outputs": [
    {
     "data": {
      "text/html": [
       "<div>\n",
       "<style scoped>\n",
       "    .dataframe tbody tr th:only-of-type {\n",
       "        vertical-align: middle;\n",
       "    }\n",
       "\n",
       "    .dataframe tbody tr th {\n",
       "        vertical-align: top;\n",
       "    }\n",
       "\n",
       "    .dataframe thead th {\n",
       "        text-align: right;\n",
       "    }\n",
       "</style>\n",
       "<table border=\"1\" class=\"dataframe\">\n",
       "  <thead>\n",
       "    <tr style=\"text-align: right;\">\n",
       "      <th></th>\n",
       "      <th>SNo</th>\n",
       "      <th>Date</th>\n",
       "      <th>StartupName</th>\n",
       "      <th>IndustryVertical</th>\n",
       "      <th>SubVertical</th>\n",
       "      <th>CityLocation</th>\n",
       "      <th>InvestorsName</th>\n",
       "      <th>InvestmentType</th>\n",
       "      <th>AmountInUSD</th>\n",
       "      <th>Remarks</th>\n",
       "    </tr>\n",
       "  </thead>\n",
       "  <tbody>\n",
       "    <tr>\n",
       "      <th>0</th>\n",
       "      <td>0</td>\n",
       "      <td>01/08/2017</td>\n",
       "      <td>TouchKin</td>\n",
       "      <td>Technology</td>\n",
       "      <td>Predictive Care Platform</td>\n",
       "      <td>Bangalore</td>\n",
       "      <td>Kae Capital</td>\n",
       "      <td>Private Equity</td>\n",
       "      <td>1,300,000</td>\n",
       "      <td>NaN</td>\n",
       "    </tr>\n",
       "    <tr>\n",
       "      <th>1</th>\n",
       "      <td>1</td>\n",
       "      <td>02/08/2017</td>\n",
       "      <td>Ethinos</td>\n",
       "      <td>Technology</td>\n",
       "      <td>Digital Marketing Agency</td>\n",
       "      <td>Mumbai</td>\n",
       "      <td>Triton Investment Advisors</td>\n",
       "      <td>Private Equity</td>\n",
       "      <td>NaN</td>\n",
       "      <td>NaN</td>\n",
       "    </tr>\n",
       "    <tr>\n",
       "      <th>2</th>\n",
       "      <td>2</td>\n",
       "      <td>02/08/2017</td>\n",
       "      <td>Leverage Edu</td>\n",
       "      <td>Consumer Internet</td>\n",
       "      <td>Online platform for Higher Education Services</td>\n",
       "      <td>New Delhi</td>\n",
       "      <td>Kashyap Deorah, Anand Sankeshwar, Deepak Jain,...</td>\n",
       "      <td>Seed Funding</td>\n",
       "      <td>NaN</td>\n",
       "      <td>NaN</td>\n",
       "    </tr>\n",
       "    <tr>\n",
       "      <th>3</th>\n",
       "      <td>3</td>\n",
       "      <td>02/08/2017</td>\n",
       "      <td>Zepo</td>\n",
       "      <td>Consumer Internet</td>\n",
       "      <td>DIY Ecommerce platform</td>\n",
       "      <td>Mumbai</td>\n",
       "      <td>Kunal Shah, LetsVenture, Anupam Mittal, Hetal ...</td>\n",
       "      <td>Seed Funding</td>\n",
       "      <td>500,000</td>\n",
       "      <td>NaN</td>\n",
       "    </tr>\n",
       "    <tr>\n",
       "      <th>4</th>\n",
       "      <td>4</td>\n",
       "      <td>02/08/2017</td>\n",
       "      <td>Click2Clinic</td>\n",
       "      <td>Consumer Internet</td>\n",
       "      <td>healthcare service aggregator</td>\n",
       "      <td>Hyderabad</td>\n",
       "      <td>Narottam Thudi, Shireesh Palle</td>\n",
       "      <td>Seed Funding</td>\n",
       "      <td>850,000</td>\n",
       "      <td>NaN</td>\n",
       "    </tr>\n",
       "  </tbody>\n",
       "</table>\n",
       "</div>"
      ],
      "text/plain": [
       "   SNo        Date   StartupName   IndustryVertical  \\\n",
       "0    0  01/08/2017      TouchKin         Technology   \n",
       "1    1  02/08/2017       Ethinos         Technology   \n",
       "2    2  02/08/2017  Leverage Edu  Consumer Internet   \n",
       "3    3  02/08/2017          Zepo  Consumer Internet   \n",
       "4    4  02/08/2017  Click2Clinic  Consumer Internet   \n",
       "\n",
       "                                     SubVertical CityLocation  \\\n",
       "0                       Predictive Care Platform    Bangalore   \n",
       "1                       Digital Marketing Agency       Mumbai   \n",
       "2  Online platform for Higher Education Services    New Delhi   \n",
       "3                         DIY Ecommerce platform       Mumbai   \n",
       "4                  healthcare service aggregator    Hyderabad   \n",
       "\n",
       "                                       InvestorsName  InvestmentType  \\\n",
       "0                                        Kae Capital  Private Equity   \n",
       "1                         Triton Investment Advisors  Private Equity   \n",
       "2  Kashyap Deorah, Anand Sankeshwar, Deepak Jain,...    Seed Funding   \n",
       "3  Kunal Shah, LetsVenture, Anupam Mittal, Hetal ...    Seed Funding   \n",
       "4                     Narottam Thudi, Shireesh Palle    Seed Funding   \n",
       "\n",
       "  AmountInUSD Remarks  \n",
       "0   1,300,000     NaN  \n",
       "1         NaN     NaN  \n",
       "2         NaN     NaN  \n",
       "3     500,000     NaN  \n",
       "4     850,000     NaN  "
      ]
     },
     "execution_count": 116,
     "metadata": {},
     "output_type": "execute_result"
    }
   ],
   "source": [
    "df.head()"
   ]
  },
  {
   "cell_type": "code",
   "execution_count": 118,
   "metadata": {},
   "outputs": [
    {
     "data": {
      "text/plain": [
       "array(['Private Equity', 'Seed Funding', 'Debt Funding', nan,\n",
       "       'SeedFunding', 'PrivateEquity', 'Crowd funding', 'Crowd Funding'],\n",
       "      dtype=object)"
      ]
     },
     "execution_count": 118,
     "metadata": {},
     "output_type": "execute_result"
    }
   ],
   "source": [
    "df.InvestmentType.unique()"
   ]
  },
  {
   "cell_type": "code",
   "execution_count": 145,
   "metadata": {},
   "outputs": [
    {
     "name": "stderr",
     "output_type": "stream",
     "text": [
      "/anaconda3/anaconda3/lib/python3.7/site-packages/pandas/core/indexing.py:189: SettingWithCopyWarning: \n",
      "A value is trying to be set on a copy of a slice from a DataFrame\n",
      "\n",
      "See the caveats in the documentation: http://pandas.pydata.org/pandas-docs/stable/indexing.html#indexing-view-versus-copy\n",
      "  self._setitem_with_indexer(indexer, value)\n"
     ]
    }
   ],
   "source": [
    "df.InvestmentType.loc[df.InvestmentType=='Crowd funding']='Crowd Funding'\n",
    "df.InvestmentType.loc[df.InvestmentType=='PrivateEquity']='Private Equity'\n",
    "df.InvestmentType.loc[df.InvestmentType=='SeedFunding']='Seed Funding'\n",
    "df.AmountInUSD.fillna('0', inplace=True)\n",
    "df[\"AmountInUSD\"] = df[\"AmountInUSD\"].apply(lambda x: float(str(x).replace(\",\",\"\")))\n",
    "df[\"AmountInUSD\"] = pd.to_numeric(df[\"AmountInUSD\"])\n"
   ]
  },
  {
   "cell_type": "code",
   "execution_count": 153,
   "metadata": {},
   "outputs": [],
   "source": [
    "seed_fund = int(df[df['InvestmentType']=='Seed Funding'].AmountInUSD.sum())\n"
   ]
  },
  {
   "cell_type": "code",
   "execution_count": 154,
   "metadata": {},
   "outputs": [],
   "source": [
    "private_fund = int(df[df['InvestmentType']=='Private Equity'].AmountInUSD.sum())\n"
   ]
  },
  {
   "cell_type": "code",
   "execution_count": 158,
   "metadata": {},
   "outputs": [
    {
     "data": {
      "text/plain": [
       "155768"
      ]
     },
     "execution_count": 158,
     "metadata": {},
     "output_type": "execute_result"
    }
   ],
   "source": [
    "crowd_fund = int(df[df['InvestmentType']=='Crowd Funding'].AmountInUSD.sum())\n"
   ]
  },
  {
   "cell_type": "code",
   "execution_count": 159,
   "metadata": {},
   "outputs": [
    {
     "data": {
      "text/plain": [
       "7800000"
      ]
     },
     "execution_count": 159,
     "metadata": {},
     "output_type": "execute_result"
    }
   ],
   "source": [
    "debt_fund =  int(df[df['InvestmentType']=='Debt Funding'].AmountInUSD.sum())\n"
   ]
  },
  {
   "cell_type": "code",
   "execution_count": 162,
   "metadata": {},
   "outputs": [
    {
     "data": {
      "image/png": "[encoded data removed]",
      "text/plain": [
       "<Figure size 432x288 with 1 Axes>"
      ]
     },
     "metadata": {},
     "output_type": "display_data"
    },
    {
     "name": "stdout",
     "output_type": "stream",
     "text": [
      "Private Equity 98.15\n",
      "Seed Funding 1.81\n",
      "Debt Funding 0.04\n",
      "Crowd Funding 0.00\n"
     ]
    }
   ],
   "source": [
    "x=['Private Equity', 'Seed Funding', 'Debt Funding', 'Crowd Funding']\n",
    "y=[private_fund, seed_fund, debt_fund, crowd_fund]\n",
    "\n",
    "\n",
    "plt.pie(y,labels=x,autopct='%.2f%%')\n",
    "plt.show()\n",
    "\n",
    "for i in range(len(x)):\n",
    "    print(x[i],format((y[i]*100)/sum(y), '.2f'))"
   ]
  },
  {
   "cell_type": "markdown",
   "metadata": {},
   "source": [
    "### Top 5 industries and percentage of the total amount funded to that industry."
   ]
  },
  {
   "cell_type": "code",
   "execution_count": 185,
   "metadata": {},
   "outputs": [
    {
     "name": "stderr",
     "output_type": "stream",
     "text": [
      "/anaconda3/anaconda3/lib/python3.7/site-packages/pandas/core/indexing.py:189: SettingWithCopyWarning: \n",
      "A value is trying to be set on a copy of a slice from a DataFrame\n",
      "\n",
      "See the caveats in the documentation: http://pandas.pydata.org/pandas-docs/stable/indexing.html#indexing-view-versus-copy\n",
      "  self._setitem_with_indexer(indexer, value)\n"
     ]
    },
    {
     "data": {
      "image/png": "[encoded data removed]",
      "text/plain": [
       "<Figure size 1080x720 with 1 Axes>"
      ]
     },
     "metadata": {
      "needs_background": "light"
     },
     "output_type": "display_data"
    },
    {
     "name": "stdout",
     "output_type": "stream",
     "text": [
      "Ecommerce 40.53\n",
      "Consumer Internet 35.95\n",
      "Technology 10.45\n",
      "Online Marketplace 6.63\n",
      "E-Commerce & M-Commerce platform 6.44\n"
     ]
    }
   ],
   "source": [
    "data=pd.read_csv('startup_funding.csv')\n",
    "df=data.copy()\n",
    "\n",
    "df.AmountInUSD.loc[df['AmountInUSD'].isnull()]='0'\n",
    "df.drop(df['SNo'].loc[df.IndustryVertical.isnull()], inplace=True)\n",
    "\n",
    "np_industry=np.array(df.IndustryVertical)\n",
    "np_amount=np.array(df.AmountInUSD)\n",
    "np_industry[np_industry=='eCommerce']='Ecommerce'\n",
    "np_industry[np_industry=='ECommerce']='Ecommerce'\n",
    "np_industry[np_industry=='ecommerce']='Ecommerce'\n",
    "\n",
    "for i in range(len(np_amount)):\n",
    "    np_amount[i]=''.join(np_amount[i].split(','))\n",
    "np_amount=np.array(np_amount, dtype='int64')\n",
    "\n",
    "dic=dict()\n",
    "for i in range(len(np_amount)):\n",
    "    if np_industry[i] in dic.keys():\n",
    "        dic[np_industry[i]]+=np_amount[i]\n",
    "    else:\n",
    "        dic[np_industry[i]]=np_amount[i]\n",
    "xaxis=[]\n",
    "yaxis=[]\n",
    "\n",
    "for i in dic.keys():\n",
    "    xaxis.append(i)\n",
    "    yaxis.append(dic[i])\n",
    "np_xaxis=np.array(xaxis)\n",
    "np_yaxis=np.array(yaxis)\n",
    "\n",
    "np_xaxis=np_xaxis[np.argsort(np_yaxis)]\n",
    "np_yaxis=np.sort(np_yaxis)\n",
    "\n",
    "np_xaxis=np_xaxis[len(np_xaxis)-1:len(np_xaxis)-1-5:-1]\n",
    "np_yaxis=np_yaxis[len(np_yaxis)-1:len(np_yaxis)-1-5:-1]\n",
    "\n",
    "plt.subplots(figsize=(15, 10))\n",
    "plt.bar(np_xaxis, np_yaxis, color='yellow')\n",
    "plt.xticks(rotation=45, size=16)\n",
    "plt.xlabel('Industries--->', size=16)\n",
    "plt.ylabel('Amount Funded--->', size=16)\n",
    "plt.yticks(size=16)\n",
    "plt.show()\n",
    "\n",
    "for i in range(len(np_xaxis)):\n",
    "    print(np_xaxis[i], format((np_yaxis[i]*100)/sum(np_yaxis) , '.2f'))"
   ]
  },
  {
   "cell_type": "markdown",
   "metadata": {},
   "source": [
    "### Startups with most amount of total funding. "
   ]
  },
  {
   "cell_type": "code",
   "execution_count": 186,
   "metadata": {},
   "outputs": [
    {
     "name": "stdout",
     "output_type": "stream",
     "text": [
      "Paytm\n",
      "Flipkart\n",
      "Ola\n",
      "Snapdeal\n",
      "Oyo\n"
     ]
    }
   ],
   "source": [
    "data=pd.read_csv('startup_funding.csv')\n",
    "df=data.copy()\n",
    "df.AmountInUSD.loc[df['AmountInUSD'].isnull()]='0'\n",
    "\n",
    "np_amount=np.array(df.AmountInUSD)\n",
    "np_startup=np.array(df.StartupName)\n",
    "\n",
    "for i in range(len(np_amount)):\n",
    "    np_amount[i]=''.join(np_amount[i].split(','))\n",
    "np_amount=np.array(np_amount, dtype='int64')\n",
    "for i in range(len(np_startup)):\n",
    "    if 'Ola' in np_startup[i]:\n",
    "        np_startup[i]='Ola'\n",
    "    if 'Flipkart' in np_startup[i]:\n",
    "        np_startup[i]='Flipkart'\n",
    "    if 'Oyo' in np_startup[i]:\n",
    "        np_startup[i]='Oyo'\n",
    "    if 'Paytm' in np_startup[i]:\n",
    "        np_startup[i]='Paytm'\n",
    "dic=dict()\n",
    "for i in range(len(np_amount)):\n",
    "    if np_startup[i] in dic.keys():\n",
    "        dic[np_startup[i]]+=np_amount[i]\n",
    "    else:\n",
    "        dic[np_startup[i]]=np_amount[i]\n",
    "        \n",
    "xaxis=[]\n",
    "yaxis=[]\n",
    "for i in dic.keys():\n",
    "    xaxis.append(i)\n",
    "    yaxis.append(dic[i])\n",
    "np_xaxis=np.array(xaxis)\n",
    "np_yaxis=np.array(yaxis)\n",
    "\n",
    "np_xaxis=np_xaxis[np.argsort(np_yaxis)]\n",
    "np_yaxis=np.sort(np_yaxis)\n",
    "\n",
    "np_xaxis=np_xaxis[len(np_xaxis)-1:len(np_xaxis)-1-5:-1]\n",
    "np_yaxis=np_yaxis[len(np_yaxis)-1:len(np_yaxis)-1-5:-1]\n",
    "\n",
    "for i in np_xaxis:\n",
    "    print(i)"
   ]
  },
  {
   "cell_type": "markdown",
   "metadata": {},
   "source": [
    "### Top 5 startups who received the most number of funding rounds. That means, startups which got fundings maximum number of times. "
   ]
  },
  {
   "cell_type": "code",
   "execution_count": 196,
   "metadata": {},
   "outputs": [
    {
     "name": "stdout",
     "output_type": "stream",
     "text": [
      "Ola 9\n",
      "Swiggy 7\n",
      "Paytm 6\n",
      "UrbanClap 6\n",
      "Oyo 6\n"
     ]
    }
   ],
   "source": [
    "data = pd.read_csv('startup_funding.csv')\n",
    "df = data.copy()\n",
    "np_startup = np.array(df.StartupName)\n",
    "\n",
    "for i in range(len(np_startup)):\n",
    "    if 'Ola' in np_startup[i]:\n",
    "        np_startup[i] = 'Ola'\n",
    "    if 'Flipkart' in np_startup[i]:\n",
    "        np_startup[i]='Flipkart'\n",
    "    if 'Oyo' in np_startup[i] or 'OYO Rooms' in np_startup[i]:\n",
    "        np_startup[i]='Oyo'\n",
    "    if 'Paytm' in np_startup[i]:\n",
    "        np_startup[i]='Paytm'    \n",
    "        \n",
    "dic = dict()  \n",
    "for i in np_startup:\n",
    "    if i in dic.keys():\n",
    "        dic[i]+=1\n",
    "    else:\n",
    "        dic[i]=1\n",
    "        \n",
    "x=[]\n",
    "y=[]\n",
    "\n",
    "for i in dic.keys():\n",
    "    x.append(i)\n",
    "    y.append(dic[i])\n",
    "    \n",
    "np_x=np.array(x)\n",
    "np_y=np.array(y)\n",
    "np_x=np_x[np.argsort(np_y)]\n",
    "np_y=np.sort(np_y)\n",
    "np_x=np_x[len(np_x)-1:len(np_x)-1-5:-1]\n",
    "np_y=np_y[len(np_y)-1:len(np_y)-1-5:-1]\n",
    "\n",
    "for i in range(len(np_x)):\n",
    "    print(np_x[i], np_y[i])"
   ]
  },
  {
   "cell_type": "markdown",
   "metadata": {},
   "source": [
    "### Find the Investors who have invested maximum number of times. "
   ]
  },
  {
   "cell_type": "code",
   "execution_count": 202,
   "metadata": {},
   "outputs": [
    {
     "name": "stdout",
     "output_type": "stream",
     "text": [
      "Sequoia Capital 64\n"
     ]
    }
   ],
   "source": [
    "import csv\n",
    "import numpy as np\n",
    "with open('startup_funding.csv', encoding='utf8') as file_obj:\n",
    "    file_data=csv.DictReader(file_obj, skipinitialspace=True)\n",
    "    investors=[]\n",
    "    \n",
    "    for row in file_data:\n",
    "        if not('Undisclosed' in row['InvestorsName'] or 'undisclosed' in row['InvestorsName']):\n",
    "            for i in row['InvestorsName'].split(','):\n",
    "                investors.append(i.strip())\n",
    "                \n",
    "    dic=dict()\n",
    "    for i in investors:\n",
    "        if i in dic.keys():\n",
    "            dic[i]+=1\n",
    "        else:\n",
    "            dic[i]=1\n",
    "    x=[]\n",
    "    y=[]\n",
    "    for i in dic.keys():\n",
    "        x.append(i)\n",
    "        y.append(dic[i])\n",
    "    np_x=np.array(x)\n",
    "    np_y=np.array(y)\n",
    "    np_x=np_x[np.argsort(np_y)]\n",
    "    np_y=np.sort(np_y)\n",
    "    \n",
    "    np_y=np_y[::-1]\n",
    "    np_x=np_x[::-1]\n",
    "    print(np_x[0], np_y[0])            "
   ]
  }
 ],
 "metadata": {
  "kernelspec": {
   "display_name": "Python 3",
   "language": "python",
   "name": "python3"
  },
  "language_info": {
   "codemirror_mode": {
    "name": "ipython",
    "version": 3
   },
   "file_extension": ".py",
   "mimetype": "text/x-python",
   "name": "python",
   "nbconvert_exporter": "python",
   "pygments_lexer": "ipython3",
   "version": "3.7.1"
  }
 },
 "nbformat": 4,
 "nbformat_minor": 2
}
